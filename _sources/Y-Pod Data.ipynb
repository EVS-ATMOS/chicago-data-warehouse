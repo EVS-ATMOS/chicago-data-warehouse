{
 "cells": [
  {
   "cell_type": "code",
   "execution_count": 13,
   "id": "f39a79b9-8717-4544-8262-6c20fab86e8b",
   "metadata": {
    "tags": []
   },
   "outputs": [],
   "source": [
    "import warnings\n",
    "import matplotlib.pyplot as plt\n",
    "import numpy as np\n",
    "import pandas as pd"
   ]
  },
  {
   "cell_type": "code",
   "execution_count": 14,
   "id": "e0c71586-f964-4657-831c-3dafa750dc73",
   "metadata": {
    "tags": []
   },
   "outputs": [],
   "source": [
    "df = pd.read_csv(\"C:/Users/ncbor/OneDrive/Documents/AirQual-06272023.csv\")"
   ]
  },
  {
   "cell_type": "code",
   "execution_count": 15,
   "id": "e10a2c01-b94f-44c1-bc91-41d1d9fe28b8",
   "metadata": {
    "tags": []
   },
   "outputs": [
    {
     "name": "stdout",
     "output_type": "stream",
     "text": [
      "    Column1    Column2     Column3  Column4  Column5  Column6  Column7  \\\n",
      "0    YPODX7  6/27/2023  1:06:11 PM    24.55   985.54    25.25    46.35   \n",
      "1    YPODX7  6/27/2023  1:06:20 PM    24.58   985.62    25.28    45.46   \n",
      "2    YPODX7  6/27/2023  1:10:39 PM    24.34   985.54    24.99    44.38   \n",
      "3    YPODX7  6/27/2023  1:15:47 PM    25.57   985.54    26.55    53.48   \n",
      "4    YPODX7  6/27/2023  1:15:56 PM    25.68   985.57    26.66    51.56   \n",
      "..      ...        ...         ...      ...      ...      ...      ...   \n",
      "489  YPODX7  6/27/2023  2:28:52 PM    41.37   985.64    42.34    28.95   \n",
      "490  YPODX7  6/27/2023  2:29:00 PM    41.35   985.63    42.32    28.87   \n",
      "491  YPODX7  6/27/2023  2:29:09 PM    41.35   985.58    42.33    28.54   \n",
      "492  YPODX7  6/27/2023  2:29:18 PM    41.33   985.60    42.31    28.37   \n",
      "493  YPODX7  6/27/2023  2:29:27 PM    41.06   985.47    42.10    29.18   \n",
      "\n",
      "     Column8  Column9  Column10  ...  Column21  Column22  Column23  Column24  \\\n",
      "0        835       17        38  ...       NaN      7781      8254      9677   \n",
      "1        836       18        41  ...       NaN      7764      7636      9669   \n",
      "2       1060        6        12  ...       NaN      7783      7400      9677   \n",
      "3        192       24        42  ...       NaN      7781      7936      9678   \n",
      "4        194       37        71  ...       NaN      7763      7484      9670   \n",
      "..       ...      ...       ...  ...       ...       ...       ...       ...   \n",
      "489      253       60       125  ...       NaN      7739      3510      9666   \n",
      "490      252       60       128  ...       NaN      7739      3505      9666   \n",
      "491      252       64       131  ...       NaN      7739      3492      9667   \n",
      "492      248       62       128  ...       NaN      7739      3486      9667   \n",
      "493      244       61       127  ...       NaN      7739      3470      9667   \n",
      "\n",
      "     Column25  Column26  Column27  Column28  Column29  Column30  \n",
      "0        4503     26553      2958     13101      7762       NaN  \n",
      "1        4312     26564      2953     13102      7236       NaN  \n",
      "2        4076     26564      2964     13103      7520       NaN  \n",
      "3        4075     26566      2942     13098      8084       NaN  \n",
      "4        3993     26576      2935     13099      7548       NaN  \n",
      "..        ...       ...       ...       ...       ...       ...  \n",
      "489      2453     26634      2727     13037      4697       NaN  \n",
      "490      2440     26633      2725     13037      4691       NaN  \n",
      "491      2434     26633      2723     13037      4681       NaN  \n",
      "492      2433     26633      2725     13037      4681       NaN  \n",
      "493      2408     26633      2731     13037      4655       NaN  \n",
      "\n",
      "[494 rows x 30 columns]\n"
     ]
    }
   ],
   "source": [
    "print(df)"
   ]
  },
  {
   "cell_type": "code",
   "execution_count": 17,
   "id": "4a4582e3-8859-4a36-b089-f9b09905a947",
   "metadata": {
    "tags": []
   },
   "outputs": [],
   "source": [
    "df.columns=['y_pod_model','date','time','bme_temp_degrees_C','bme_pres_mb','temp_sht_degrees_C','humidity_sht_%_RH','raw_CO2_PPM','raw_pm_<=1_micron','raw_pm_<=2.5_micron','raw_pm_<=10.0_micron','column_12','column_13','column_14','column_15','column_16','column_17','column_18','column_19','column_20','column_21','fig_210_heat','fig_210_sens','fig_280_heat','fig_280_sens','raw_co','adc2_channel2','e2vo3_heat','e2vo3_sens','GPS'] "
   ]
  },
  {
   "cell_type": "code",
   "execution_count": 18,
   "id": "531ebe25-515a-47a5-93ee-414a0d5a6183",
   "metadata": {
    "tags": []
   },
   "outputs": [
    {
     "name": "stdout",
     "output_type": "stream",
     "text": [
      "    y_pod_model       date        time  bme_temp_degrees_C  bme_pres_mb  \\\n",
      "0        YPODX7  6/27/2023  1:06:11 PM               24.55       985.54   \n",
      "1        YPODX7  6/27/2023  1:06:20 PM               24.58       985.62   \n",
      "2        YPODX7  6/27/2023  1:10:39 PM               24.34       985.54   \n",
      "3        YPODX7  6/27/2023  1:15:47 PM               25.57       985.54   \n",
      "4        YPODX7  6/27/2023  1:15:56 PM               25.68       985.57   \n",
      "..          ...        ...         ...                 ...          ...   \n",
      "489      YPODX7  6/27/2023  2:28:52 PM               41.37       985.64   \n",
      "490      YPODX7  6/27/2023  2:29:00 PM               41.35       985.63   \n",
      "491      YPODX7  6/27/2023  2:29:09 PM               41.35       985.58   \n",
      "492      YPODX7  6/27/2023  2:29:18 PM               41.33       985.60   \n",
      "493      YPODX7  6/27/2023  2:29:27 PM               41.06       985.47   \n",
      "\n",
      "     temp_sht_degrees_C  humidity_sht_%_RH  raw_CO2_PPM  raw_pm_<=1_micron  \\\n",
      "0                 25.25              46.35          835                 17   \n",
      "1                 25.28              45.46          836                 18   \n",
      "2                 24.99              44.38         1060                  6   \n",
      "3                 26.55              53.48          192                 24   \n",
      "4                 26.66              51.56          194                 37   \n",
      "..                  ...                ...          ...                ...   \n",
      "489               42.34              28.95          253                 60   \n",
      "490               42.32              28.87          252                 60   \n",
      "491               42.33              28.54          252                 64   \n",
      "492               42.31              28.37          248                 62   \n",
      "493               42.10              29.18          244                 61   \n",
      "\n",
      "     raw_pm_<=2.5_micron  ...  column_21  fig_210_heat  fig_210_sens  \\\n",
      "0                     38  ...        NaN          7781          8254   \n",
      "1                     41  ...        NaN          7764          7636   \n",
      "2                     12  ...        NaN          7783          7400   \n",
      "3                     42  ...        NaN          7781          7936   \n",
      "4                     71  ...        NaN          7763          7484   \n",
      "..                   ...  ...        ...           ...           ...   \n",
      "489                  125  ...        NaN          7739          3510   \n",
      "490                  128  ...        NaN          7739          3505   \n",
      "491                  131  ...        NaN          7739          3492   \n",
      "492                  128  ...        NaN          7739          3486   \n",
      "493                  127  ...        NaN          7739          3470   \n",
      "\n",
      "     fig_280_heat  fig_280_sens  raw_co  adc2_channel2  e2vo3_heat  \\\n",
      "0            9677          4503   26553           2958       13101   \n",
      "1            9669          4312   26564           2953       13102   \n",
      "2            9677          4076   26564           2964       13103   \n",
      "3            9678          4075   26566           2942       13098   \n",
      "4            9670          3993   26576           2935       13099   \n",
      "..            ...           ...     ...            ...         ...   \n",
      "489          9666          2453   26634           2727       13037   \n",
      "490          9666          2440   26633           2725       13037   \n",
      "491          9667          2434   26633           2723       13037   \n",
      "492          9667          2433   26633           2725       13037   \n",
      "493          9667          2408   26633           2731       13037   \n",
      "\n",
      "     e2vo3_sens  GPS  \n",
      "0          7762  NaN  \n",
      "1          7236  NaN  \n",
      "2          7520  NaN  \n",
      "3          8084  NaN  \n",
      "4          7548  NaN  \n",
      "..          ...  ...  \n",
      "489        4697  NaN  \n",
      "490        4691  NaN  \n",
      "491        4681  NaN  \n",
      "492        4681  NaN  \n",
      "493        4655  NaN  \n",
      "\n",
      "[494 rows x 30 columns]\n"
     ]
    }
   ],
   "source": [
    "print(df)"
   ]
  },
  {
   "cell_type": "code",
   "execution_count": null,
   "id": "85d2e491-9634-4ce5-8a30-1e833f83eccb",
   "metadata": {},
   "outputs": [],
   "source": []
  }
 ],
 "metadata": {
  "kernelspec": {
   "display_name": "Python 3 (ipykernel)",
   "language": "python",
   "name": "python3"
  },
  "language_info": {
   "codemirror_mode": {
    "name": "ipython",
    "version": 3
   },
   "file_extension": ".py",
   "mimetype": "text/x-python",
   "name": "python",
   "nbconvert_exporter": "python",
   "pygments_lexer": "ipython3",
   "version": "3.11.4"
  }
 },
 "nbformat": 4,
 "nbformat_minor": 5
}
